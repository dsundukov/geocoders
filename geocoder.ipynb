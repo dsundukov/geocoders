{
 "cells": [
  {
   "cell_type": "code",
   "execution_count": null,
   "metadata": {},
   "outputs": [],
   "source": [
    "from geopy.geocoders import Nominatim\n",
    "locator = Nominatim(user_agent='myGeocoder')\n",
    "location = locator.geocode('Пуровский район, Ямало-Ненецкий автономный округ, Уральский федеральный округ, Россия')\n",
    "print('Latitude = {}, Longitude = {}'.format(location.latitude, location.longitude))"
   ]
  },
  {
   "cell_type": "code",
   "execution_count": null,
   "metadata": {},
   "outputs": [],
   "source": [
    "import csv\n",
    "import pandas as pd\n",
    "from geopy.geocoders import Nominatim\n",
    "count = 0\n",
    "with open(r'C:\\Users\\admin\\Desktop\\geo_data\\in.csv', 'r', encoding=\"Windows-1251\") as fr:\n",
    "    with open(r'C:\\Users\\admin\\Desktop\\geo_data\\out.txt', 'w', encoding=\"utf-8\") as fw:\n",
    "        for line in fr:\n",
    "            print(line)\n",
    "            locator = Nominatim(user_agent='myGeocoder')\n",
    "            location = locator.reverse(line)\n",
    "            if count < 5 :\n",
    "                #fw.write(line[:-1].replace('\"','')+'\\r\\n')\n",
    "                #fw.write(line[:-1].replace('\"','')+'\\n')\n",
    "                sep = '|'\n",
    "                result = [location.address,sep,line]\n",
    "                fw.writelines(\"%s\\n\" % result)\n",
    "                count = count + 1\n",
    "            else:\n",
    "                print(\"The End\")"
   ]
  },
  {
   "cell_type": "code",
   "execution_count": null,
   "metadata": {},
   "outputs": [],
   "source": [
    "from geopy.geocoders import Nominatim\n",
    "locator = Nominatim(user_agent='myGeocoder')\n",
    "location = locator.reverse('28.9792,41.1003')\n",
    "country_new = location.raw['address']['country'].upper()\n",
    "city = location.raw['address']\n",
    "print(city)"
   ]
  },
  {
   "cell_type": "code",
   "execution_count": null,
   "metadata": {},
   "outputs": [],
   "source": [
    "from geopy.geocoders import Nominatim\n",
    "import csv\n",
    "import pandas as pd\n",
    "\n",
    "\n",
    "def get_countries(lat,lon):\n",
    "    coordinates = f'{lat} {lon}'\n",
    "    locator = Nominatim(user_agent='myGeocoder', timeout=10)\n",
    "    #location = locator.reverse(coordinates)\n",
    "    location = locator.reverse(coordinates,language='ru')\n",
    "    #country = location.raw['address']['country_code'].upper()\n",
    "    country = location.address.upper()\n",
    "    city = location.raw['address']['country'].upper()\n",
    "    type_n = \"y_x\"\n",
    "    #location = locator.reverse('41.3490;140.2598')\n",
    "    return [city,type_n,lat,lon,country]\n",
    "\n",
    "type_t = \"y_x\"\n",
    "error = \"address must not be None\"\n",
    "with open(r'C:\\Users\\admin\\Desktop\\geo_data\\in.csv', 'r' , encoding=\"Windows-1251\") as fr:\n",
    "    with open(r'C:\\Users\\admin\\Desktop\\geo_data\\out.txt', 'w', encoding=\"utf-8\") as fw:\n",
    "        for line in fr:\n",
    "            lat = line.split(',')[:-1]\n",
    "            lat = str(lat)\n",
    "            lat = lat.replace('[','')\n",
    "            lat = lat.replace(']','')\n",
    "            lat = lat.replace(\"'\",'')\n",
    "            lon = line.replace('\\n','').split(',')[1:]\n",
    "            lon = str(lon)\n",
    "            lon = lon.replace('[','')\n",
    "            lon = lon.replace(']','')\n",
    "            lon = lon.replace(\"'\",'')\n",
    "            try:\n",
    "                result = get_countries(lat,lon)\n",
    "                fw.writelines(\"%s\\n\" % result)\n",
    "            except Exception:\n",
    "                export_data = [error,type_t,lat,lon]\n",
    "                export_data = str(export_data)\n",
    "                fw.writelines(\"%s\\n\" % export_data)"
   ]
  }
 ],
 "metadata": {
  "kernelspec": {
   "display_name": "Python 3",
   "language": "python",
   "name": "python3"
  },
  "language_info": {
   "codemirror_mode": {
    "name": "ipython",
    "version": 3
   },
   "file_extension": ".py",
   "mimetype": "text/x-python",
   "name": "python",
   "nbconvert_exporter": "python",
   "pygments_lexer": "ipython3",
   "version": "3.7.3"
  }
 },
 "nbformat": 4,
 "nbformat_minor": 2
}
